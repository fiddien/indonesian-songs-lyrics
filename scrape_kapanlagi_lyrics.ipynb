{
  "nbformat": 4,
  "nbformat_minor": 0,
  "metadata": {
    "colab": {
      "name": "scrape_kapanlagi_lyrics.ipynb",
      "provenance": [],
      "collapsed_sections": [],
      "authorship_tag": "ABX9TyNvubZlQ3sCkMOHlmUWDg19",
      "include_colab_link": true
    },
    "kernelspec": {
      "name": "python3",
      "display_name": "Python 3"
    },
    "language_info": {
      "name": "python"
    }
  },
  "cells": [
    {
      "cell_type": "markdown",
      "metadata": {
        "id": "view-in-github",
        "colab_type": "text"
      },
      "source": [
        "<a href=\"https://colab.research.google.com/github/ilmaaliyaf/indonesian-songs-lyrics/blob/main/scrape_kapanlagi_lyrics.ipynb\" target=\"_parent\"><img src=\"https://colab.research.google.com/assets/colab-badge.svg\" alt=\"Open In Colab\"/></a>"
      ]
    },
    {
      "cell_type": "code",
      "metadata": {
        "id": "itRP2d0VL-wD"
      },
      "source": [
        "import requests\n",
        "from bs4 import BeautifulSoup\n",
        "import concurrent.futures # for multi-threading\n",
        "import time\n",
        "import csv\n",
        "from tqdm import tqdm\n",
        "import pickle\n",
        "from google.colab import files\n",
        "\n",
        "def get_lxml(link):\n",
        "    '''\n",
        "        input: link of a webpage\n",
        "        output: BeautifulSoup object in lxml format\n",
        "    '''\n",
        "    res = requests.get(link, headers={\"User-Agent\" : \"Mozilla/5.0 (X11; Linux x86_64) AppleWebKit/537.36 (KHTML, like Gecko) Chrome/51.0.2704.103 Safari/537.36\"}).content\n",
        "    return BeautifulSoup(res, 'lxml')\n",
        "\n",
        "def get_lyrics(link):\n",
        "    '''\n",
        "        get lyrics of a song\n",
        "        input: link of the lyrics in kapalagi.com\n",
        "        output: string of lyrics, different line separated by slash-n\n",
        "    '''\n",
        "    s = '\\n'.join([l.text.strip() for l in get_lxml(link).select('.lirik_line')])\n",
        "    return s if s != 'Belum Ada Lirik' else ''\n"
      ],
      "execution_count": null,
      "outputs": []
    },
    {
      "cell_type": "code",
      "metadata": {
        "colab": {
          "base_uri": "https://localhost:8080/"
        },
        "id": "Wul0eVfjMDlP",
        "outputId": "f49a5250-042b-46d3-9f17-3fdb30d40f9c"
      },
      "source": [
        "def get_songs(a):\n",
        "    ''' \n",
        "    get songs details: title, artist, link of the lyrics in kapalagi.com\n",
        "    input : the-first-alphabet of the song\n",
        "    output : list of dict\n",
        "    '''\n",
        "    songs_id = []\n",
        "    \n",
        "    i = 1\n",
        "    link = f'https://lirik.kapanlagi.com/lagu/{a}_id/' # link of the first page\n",
        "\n",
        "    while str(requests.head(link).status_code) == '200':\n",
        "        soup = get_lxml(link)\n",
        "\n",
        "        # get list of song titles\n",
        "        titles = [a for a in soup.findAll('a', {'href': True, 'class': False}) \\\n",
        "                  if 'artis' in a.get('href')]\n",
        "        # get list of the corresponding song artists\n",
        "        artists = [a.text.strip() for a in soup.findAll('span', {'class': False})]\n",
        "        # create the song dictionary\n",
        "        s = [ {'link': t.get('href'),\n",
        "               'title': t.text.strip(), \n",
        "               'artist': a\n",
        "               } for (t, a) in zip(titles, artists) ]\n",
        "        songs_id += s # append the dict to the preceeding song list\n",
        "        \n",
        "        # next page if any\n",
        "        i += 1\n",
        "        link = f'https://lirik.kapanlagi.com/lagu/{a}_id/index{i}.html'\n",
        "    \n",
        "    # print result\n",
        "    toc = time.time()\n",
        "    print(f'{a} \\t#songs: {len(songs_id)} \\ttime passed: {round(toc-tic, 1)}s')\n",
        "    \n",
        "    return songs_id\n",
        "\n",
        "alphabets = [chr(i+97) for i in range(26)] + ['num']\n",
        "num_pages = {}\n",
        "\n",
        "tic = time.time()\n",
        "\n",
        "with concurrent.futures.ThreadPoolExecutor() as executor:\n",
        "    future = executor.map(get_songs, alphabets)\n",
        "    songs_kapanlagi = [song for f in future for song in f]\n",
        "    time.sleep(1e-8)"
      ],
      "execution_count": null,
      "outputs": [
        {
          "output_type": "stream",
          "text": [
            "e \t#songs: 207 \ttime passed: 11.8s\n",
            "f \t#songs: 203 \ttime passed: 12.2s\n",
            "g \t#songs: 547 \ttime passed: 25.3s\n",
            "i \t#songs: 674 \ttime passed: 34.7s\n",
            "h \t#songs: 862 \ttime passed: 38.7s\n",
            "j \t#songs: 862 \ttime passed: 41.5s\n",
            "d \t#songs: 1251 \ttime passed: 46.9s\n",
            "o \t#songs: 244 \ttime passed: 52.5s\n",
            "c \t#songs: 1055 \ttime passed: 52.6s\n",
            "l \t#songs: 848 \ttime passed: 53.9s\n",
            "n \t#songs: 466 \ttime passed: 55.9s\n",
            "q \t#songs: 11 \ttime passed: 57.2s\n",
            "v \t#songs: 45 \ttime passed: 63.8s\n",
            "u \t#songs: 229 \ttime passed: 65.6s\n",
            "a \t#songs: 1695 \ttime passed: 65.9s\n",
            "b \t#songs: 1874 \ttime passed: 75.3s\n",
            "x \t#songs: 10 \ttime passed: 76.4s\n",
            "z \t#songs: 22 \ttime passed: 85.1s\n",
            "w \t#songs: 283 \ttime passed: 86.7s\n",
            "r \t#songs: 607 \ttime passed: 87.1s\n",
            "y \t#songs: 278 \ttime passed: 89.5s\n",
            "num \t#songs: 155 \ttime passed: 91.9s\n",
            "p \t#songs: 1236 \ttime passed: 101.6s\n",
            "m \t#songs: 1741 \ttime passed: 105.6s\n",
            "k \t#songs: 2188 \ttime passed: 106.4s\n",
            "t \t#songs: 1913 \ttime passed: 148.2s\n",
            "s \t#songs: 2639 \ttime passed: 184.9s\n"
          ],
          "name": "stdout"
        }
      ]
    },
    {
      "cell_type": "code",
      "metadata": {
        "id": "270zhgbaRYQb",
        "colab": {
          "base_uri": "https://localhost:8080/"
        },
        "outputId": "48cb100b-6d2e-468c-9b7a-b026ed78475d"
      },
      "source": [
        "from google.colab import drive\n",
        "drive.mount('/gdrive')\n",
        "\n",
        "DIR = \"/gdrive/My Drive/Colab Notebooks/dataset/kapanlagi/\"\n",
        "\n",
        "# save to a pickle file\n",
        "with open(DIR+'songs_kapanlagi.pickle', 'wb') as f:\n",
        "    pickle.dump(songs_kapanlagi, f)"
      ],
      "execution_count": null,
      "outputs": [
        {
          "output_type": "stream",
          "text": [
            "Drive already mounted at /gdrive; to attempt to forcibly remount, call drive.mount(\"/gdrive\", force_remount=True).\n"
          ],
          "name": "stdout"
        }
      ]
    },
    {
      "cell_type": "markdown",
      "metadata": {
        "id": "g9Ao-QV1RicX"
      },
      "source": [
        "## Checkpoint\n",
        "\n",
        "[Run this first.](#scrollTo=itRP2d0VL-wD)"
      ]
    },
    {
      "cell_type": "code",
      "metadata": {
        "id": "RmgSpYLKceuR",
        "colab": {
          "base_uri": "https://localhost:8080/"
        },
        "outputId": "f406a578-fa01-4a0e-b8a1-93cebd9a8a10"
      },
      "source": [
        "from google.colab import drive\n",
        "drive.mount('/gdrive')\n",
        "\n",
        "DIR = \"/gdrive/My Drive/Colab Notebooks/dataset/kapanlagi/\"\n",
        "\n",
        "# load the pickle file\n",
        "import pickle\n",
        "\n",
        "with open(DIR + 'songs_kapanlagi.pickle','rb') as f:\n",
        "    songs_kapanlagi = pickle.load(f)\n",
        "len(songs_kapanlagi)"
      ],
      "execution_count": null,
      "outputs": [
        {
          "output_type": "stream",
          "text": [
            "Drive already mounted at /gdrive; to attempt to forcibly remount, call drive.mount(\"/gdrive\", force_remount=True).\n"
          ],
          "name": "stdout"
        },
        {
          "output_type": "execute_result",
          "data": {
            "text/plain": [
              "22145"
            ]
          },
          "metadata": {
            "tags": []
          },
          "execution_count": 11
        }
      ]
    },
    {
      "cell_type": "code",
      "metadata": {
        "colab": {
          "base_uri": "https://localhost:8080/"
        },
        "id": "PC7MRxOFMI3W",
        "outputId": "3123a9f4-067e-43b3-ae5f-f800da66b5b4"
      },
      "source": [
        "# j = 4\n",
        "step = 100\n",
        "\n",
        "for j in range(220, 223):\n",
        "    print('\\n', j)\n",
        "    links = [song['link'] for song in songs_kapanlagi][j*step:(j+1)*step]\n",
        "    # print('#total songs: ', len(links))\n",
        "\n",
        "    with concurrent.futures.ThreadPoolExecutor() as executor:\n",
        "        future = executor.map(get_lyrics, links)\n",
        "        for i,f in enumerate(tqdm(future, total=len(links))):\n",
        "            k = i+j*step\n",
        "            songs_kapanlagi[k]['lyrics'] = f if f != 'Belum ada lirik' else ''\n",
        "            time.sleep(1e-2)\n",
        "\n",
        "    # get keys for csv header\n",
        "    keys = songs_kapanlagi[-1].keys()\n",
        "\n",
        "    # save dict to csv\n",
        "    with open(DIR + f'lyrisc_{j}.csv', 'a')  as f:\n",
        "        dict_writer = csv.DictWriter(f, fieldnames=keys, extrasaction='ignore')\n",
        "        dict_writer.writeheader()\n",
        "        dict_writer.writerows(songs_kapanlagi)"
      ],
      "execution_count": null,
      "outputs": [
        {
          "output_type": "stream",
          "text": [
            "\r  0%|          | 0/100 [00:00<?, ?it/s]"
          ],
          "name": "stderr"
        },
        {
          "output_type": "stream",
          "text": [
            "\n",
            " 220\n"
          ],
          "name": "stdout"
        },
        {
          "output_type": "stream",
          "text": [
            "100%|██████████| 100/100 [00:15<00:00,  6.39it/s]\n",
            "  0%|          | 0/45 [00:00<?, ?it/s]"
          ],
          "name": "stderr"
        },
        {
          "output_type": "stream",
          "text": [
            "\n",
            " 221\n"
          ],
          "name": "stdout"
        },
        {
          "output_type": "stream",
          "text": [
            "100%|██████████| 45/45 [00:06<00:00,  7.10it/s]\n",
            "0it [00:00, ?it/s]\n"
          ],
          "name": "stderr"
        },
        {
          "output_type": "stream",
          "text": [
            "\n",
            " 222\n"
          ],
          "name": "stdout"
        }
      ]
    }
  ]
}